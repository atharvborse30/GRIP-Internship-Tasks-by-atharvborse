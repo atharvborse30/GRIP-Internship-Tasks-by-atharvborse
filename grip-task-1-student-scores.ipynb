{
 "cells": [
  {
   "cell_type": "code",
   "execution_count": 1,
   "id": "8c36d840",
   "metadata": {
    "_cell_guid": "b1076dfc-b9ad-4769-8c92-a6c4dae69d19",
    "_uuid": "8f2839f25d086af736a60e9eeb907d3b93b6e0e5",
    "execution": {
     "iopub.execute_input": "2022-04-20T15:55:15.217616Z",
     "iopub.status.busy": "2022-04-20T15:55:15.217168Z",
     "iopub.status.idle": "2022-04-20T15:55:16.285749Z",
     "shell.execute_reply": "2022-04-20T15:55:16.284882Z"
    },
    "papermill": {
     "duration": 1.090834,
     "end_time": "2022-04-20T15:55:16.287973",
     "exception": false,
     "start_time": "2022-04-20T15:55:15.197139",
     "status": "completed"
    },
    "tags": []
   },
   "outputs": [
    {
     "name": "stdout",
     "output_type": "stream",
     "text": [
      "/kaggle/input/student-scores/student_scores.csv\n"
     ]
    }
   ],
   "source": [
    "import numpy as np # linear algebra\n",
    "import pandas as pd # data processing, CSV file I/O (e.g. pd.read_csv)\n",
    "import matplotlib.pyplot as plt\n",
    "\n",
    "from sklearn.linear_model import LinearRegression\n",
    "\n",
    "\n",
    "import os\n",
    "for dirname, _, filenames in os.walk('/kaggle/input'):\n",
    "    for filename in filenames:\n",
    "        print(os.path.join(dirname, filename))"
   ]
  },
  {
   "cell_type": "code",
   "execution_count": 2,
   "id": "333767d6",
   "metadata": {
    "execution": {
     "iopub.execute_input": "2022-04-20T15:55:16.326627Z",
     "iopub.status.busy": "2022-04-20T15:55:16.326077Z",
     "iopub.status.idle": "2022-04-20T15:55:16.338075Z",
     "shell.execute_reply": "2022-04-20T15:55:16.337552Z"
    },
    "papermill": {
     "duration": 0.032803,
     "end_time": "2022-04-20T15:55:16.339515",
     "exception": false,
     "start_time": "2022-04-20T15:55:16.306712",
     "status": "completed"
    },
    "tags": []
   },
   "outputs": [],
   "source": [
    "data = pd.read_csv('../input/student-scores/student_scores.csv')"
   ]
  },
  {
   "cell_type": "code",
   "execution_count": 3,
   "id": "c85efb5e",
   "metadata": {
    "execution": {
     "iopub.execute_input": "2022-04-20T15:55:16.364455Z",
     "iopub.status.busy": "2022-04-20T15:55:16.363927Z",
     "iopub.status.idle": "2022-04-20T15:55:16.379942Z",
     "shell.execute_reply": "2022-04-20T15:55:16.379461Z"
    },
    "papermill": {
     "duration": 0.029864,
     "end_time": "2022-04-20T15:55:16.381188",
     "exception": false,
     "start_time": "2022-04-20T15:55:16.351324",
     "status": "completed"
    },
    "tags": []
   },
   "outputs": [
    {
     "data": {
      "text/html": [
       "<div>\n",
       "<style scoped>\n",
       "    .dataframe tbody tr th:only-of-type {\n",
       "        vertical-align: middle;\n",
       "    }\n",
       "\n",
       "    .dataframe tbody tr th {\n",
       "        vertical-align: top;\n",
       "    }\n",
       "\n",
       "    .dataframe thead th {\n",
       "        text-align: right;\n",
       "    }\n",
       "</style>\n",
       "<table border=\"1\" class=\"dataframe\">\n",
       "  <thead>\n",
       "    <tr style=\"text-align: right;\">\n",
       "      <th></th>\n",
       "      <th>Hours</th>\n",
       "      <th>Scores</th>\n",
       "    </tr>\n",
       "  </thead>\n",
       "  <tbody>\n",
       "    <tr>\n",
       "      <th>0</th>\n",
       "      <td>2.5</td>\n",
       "      <td>21</td>\n",
       "    </tr>\n",
       "    <tr>\n",
       "      <th>1</th>\n",
       "      <td>5.1</td>\n",
       "      <td>47</td>\n",
       "    </tr>\n",
       "    <tr>\n",
       "      <th>2</th>\n",
       "      <td>3.2</td>\n",
       "      <td>27</td>\n",
       "    </tr>\n",
       "    <tr>\n",
       "      <th>3</th>\n",
       "      <td>8.5</td>\n",
       "      <td>75</td>\n",
       "    </tr>\n",
       "    <tr>\n",
       "      <th>4</th>\n",
       "      <td>3.5</td>\n",
       "      <td>30</td>\n",
       "    </tr>\n",
       "    <tr>\n",
       "      <th>5</th>\n",
       "      <td>1.5</td>\n",
       "      <td>20</td>\n",
       "    </tr>\n",
       "    <tr>\n",
       "      <th>6</th>\n",
       "      <td>9.2</td>\n",
       "      <td>88</td>\n",
       "    </tr>\n",
       "    <tr>\n",
       "      <th>7</th>\n",
       "      <td>5.5</td>\n",
       "      <td>60</td>\n",
       "    </tr>\n",
       "    <tr>\n",
       "      <th>8</th>\n",
       "      <td>8.3</td>\n",
       "      <td>81</td>\n",
       "    </tr>\n",
       "    <tr>\n",
       "      <th>9</th>\n",
       "      <td>2.7</td>\n",
       "      <td>25</td>\n",
       "    </tr>\n",
       "  </tbody>\n",
       "</table>\n",
       "</div>"
      ],
      "text/plain": [
       "   Hours  Scores\n",
       "0    2.5      21\n",
       "1    5.1      47\n",
       "2    3.2      27\n",
       "3    8.5      75\n",
       "4    3.5      30\n",
       "5    1.5      20\n",
       "6    9.2      88\n",
       "7    5.5      60\n",
       "8    8.3      81\n",
       "9    2.7      25"
      ]
     },
     "execution_count": 3,
     "metadata": {},
     "output_type": "execute_result"
    }
   ],
   "source": [
    "data.head(10)"
   ]
  },
  {
   "cell_type": "code",
   "execution_count": 4,
   "id": "d2eb3449",
   "metadata": {
    "execution": {
     "iopub.execute_input": "2022-04-20T15:55:16.405833Z",
     "iopub.status.busy": "2022-04-20T15:55:16.405341Z",
     "iopub.status.idle": "2022-04-20T15:55:16.633558Z",
     "shell.execute_reply": "2022-04-20T15:55:16.632888Z"
    },
    "papermill": {
     "duration": 0.242311,
     "end_time": "2022-04-20T15:55:16.635213",
     "exception": false,
     "start_time": "2022-04-20T15:55:16.392902",
     "status": "completed"
    },
    "tags": []
   },
   "outputs": [
    {
     "data": {
      "image/png": "[encoded data removed]",
      "text/plain": [
       "<Figure size 432x288 with 1 Axes>"
      ]
     },
     "metadata": {
      "needs_background": "light"
     },
     "output_type": "display_data"
    }
   ],
   "source": [
    "data.plot(x='Hours', y='Scores', style='o')\n",
    "\n",
    "plt.title('Hours Studied vs Scores', fontsize = 18)\n",
    "plt.xlabel('Hours Studied', fontsize = 14)\n",
    "plt.ylabel('Student Scores',fontsize = 14)\n",
    "plt.show()"
   ]
  },
  {
   "cell_type": "code",
   "execution_count": 5,
   "id": "762f5601",
   "metadata": {
    "execution": {
     "iopub.execute_input": "2022-04-20T15:55:16.663487Z",
     "iopub.status.busy": "2022-04-20T15:55:16.663261Z",
     "iopub.status.idle": "2022-04-20T15:55:16.668196Z",
     "shell.execute_reply": "2022-04-20T15:55:16.667740Z"
    },
    "papermill": {
     "duration": 0.020049,
     "end_time": "2022-04-20T15:55:16.669323",
     "exception": false,
     "start_time": "2022-04-20T15:55:16.649274",
     "status": "completed"
    },
    "tags": []
   },
   "outputs": [],
   "source": [
    "X = data.iloc[:,:-1].values\n",
    "y = data.iloc[:, 1].values"
   ]
  },
  {
   "cell_type": "code",
   "execution_count": 6,
   "id": "4f56abb0",
   "metadata": {
    "execution": {
     "iopub.execute_input": "2022-04-20T15:55:16.694226Z",
     "iopub.status.busy": "2022-04-20T15:55:16.693903Z",
     "iopub.status.idle": "2022-04-20T15:55:16.697979Z",
     "shell.execute_reply": "2022-04-20T15:55:16.697524Z"
    },
    "papermill": {
     "duration": 0.017899,
     "end_time": "2022-04-20T15:55:16.699102",
     "exception": false,
     "start_time": "2022-04-20T15:55:16.681203",
     "status": "completed"
    },
    "tags": []
   },
   "outputs": [],
   "source": [
    "from sklearn.model_selection import train_test_split  \n",
    "X_train, X_test, y_train, y_test = train_test_split(X, y, \n",
    "                            test_size=0.2, random_state=0) "
   ]
  },
  {
   "cell_type": "code",
   "execution_count": 7,
   "id": "5a3bc355",
   "metadata": {
    "execution": {
     "iopub.execute_input": "2022-04-20T15:55:16.723510Z",
     "iopub.status.busy": "2022-04-20T15:55:16.723312Z",
     "iopub.status.idle": "2022-04-20T15:55:16.738025Z",
     "shell.execute_reply": "2022-04-20T15:55:16.737335Z"
    },
    "papermill": {
     "duration": 0.029095,
     "end_time": "2022-04-20T15:55:16.739917",
     "exception": false,
     "start_time": "2022-04-20T15:55:16.710822",
     "status": "completed"
    },
    "tags": []
   },
   "outputs": [
    {
     "name": "stdout",
     "output_type": "stream",
     "text": [
      "Training complete.\n"
     ]
    }
   ],
   "source": [
    "regr =LinearRegression()\n",
    "regr.fit(X_train, y_train)\n",
    "\n",
    "print('Training complete.')"
   ]
  },
  {
   "cell_type": "code",
   "execution_count": 8,
   "id": "335a5388",
   "metadata": {
    "execution": {
     "iopub.execute_input": "2022-04-20T15:55:16.779975Z",
     "iopub.status.busy": "2022-04-20T15:55:16.779411Z",
     "iopub.status.idle": "2022-04-20T15:55:16.945743Z",
     "shell.execute_reply": "2022-04-20T15:55:16.945235Z"
    },
    "papermill": {
     "duration": 0.188073,
     "end_time": "2022-04-20T15:55:16.947455",
     "exception": false,
     "start_time": "2022-04-20T15:55:16.759382",
     "status": "completed"
    },
    "tags": []
   },
   "outputs": [
    {
     "data": {
      "image/png": "[encoded data removed]",
      "text/plain": [
       "<Figure size 720x504 with 1 Axes>"
      ]
     },
     "metadata": {
      "needs_background": "light"
     },
     "output_type": "display_data"
    }
   ],
   "source": [
    "line = int(regr.coef_)*X+int(regr.intercept_)\n",
    "plt.figure(figsize=(10,7))\n",
    "plt.scatter(X, y)\n",
    "plt.plot(X, line, color='red')\n",
    "plt.show()"
   ]
  },
  {
   "cell_type": "code",
   "execution_count": 9,
   "id": "ef68eef4",
   "metadata": {
    "execution": {
     "iopub.execute_input": "2022-04-20T15:55:16.989525Z",
     "iopub.status.busy": "2022-04-20T15:55:16.989136Z",
     "iopub.status.idle": "2022-04-20T15:55:16.993511Z",
     "shell.execute_reply": "2022-04-20T15:55:16.992898Z"
    },
    "papermill": {
     "duration": 0.027581,
     "end_time": "2022-04-20T15:55:16.995369",
     "exception": false,
     "start_time": "2022-04-20T15:55:16.967788",
     "status": "completed"
    },
    "tags": []
   },
   "outputs": [
    {
     "name": "stdout",
     "output_type": "stream",
     "text": [
      "[[1.5]\n",
      " [3.2]\n",
      " [7.4]\n",
      " [2.5]\n",
      " [5.9]]\n"
     ]
    }
   ],
   "source": [
    "print(X_test)\n",
    "y_pred = regr.predict(X_test)"
   ]
  },
  {
   "cell_type": "code",
   "execution_count": 10,
   "id": "c5b71a96",
   "metadata": {
    "execution": {
     "iopub.execute_input": "2022-04-20T15:55:17.038663Z",
     "iopub.status.busy": "2022-04-20T15:55:17.038423Z",
     "iopub.status.idle": "2022-04-20T15:55:17.047560Z",
     "shell.execute_reply": "2022-04-20T15:55:17.046843Z"
    },
    "papermill": {
     "duration": 0.032721,
     "end_time": "2022-04-20T15:55:17.049235",
     "exception": false,
     "start_time": "2022-04-20T15:55:17.016514",
     "status": "completed"
    },
    "tags": []
   },
   "outputs": [
    {
     "data": {
      "text/html": [
       "<div>\n",
       "<style scoped>\n",
       "    .dataframe tbody tr th:only-of-type {\n",
       "        vertical-align: middle;\n",
       "    }\n",
       "\n",
       "    .dataframe tbody tr th {\n",
       "        vertical-align: top;\n",
       "    }\n",
       "\n",
       "    .dataframe thead th {\n",
       "        text-align: right;\n",
       "    }\n",
       "</style>\n",
       "<table border=\"1\" class=\"dataframe\">\n",
       "  <thead>\n",
       "    <tr style=\"text-align: right;\">\n",
       "      <th></th>\n",
       "      <th>Actual</th>\n",
       "      <th>Predicted</th>\n",
       "    </tr>\n",
       "  </thead>\n",
       "  <tbody>\n",
       "    <tr>\n",
       "      <th>0</th>\n",
       "      <td>20</td>\n",
       "      <td>16.884145</td>\n",
       "    </tr>\n",
       "    <tr>\n",
       "      <th>1</th>\n",
       "      <td>27</td>\n",
       "      <td>33.732261</td>\n",
       "    </tr>\n",
       "    <tr>\n",
       "      <th>2</th>\n",
       "      <td>69</td>\n",
       "      <td>75.357018</td>\n",
       "    </tr>\n",
       "    <tr>\n",
       "      <th>3</th>\n",
       "      <td>30</td>\n",
       "      <td>26.794801</td>\n",
       "    </tr>\n",
       "    <tr>\n",
       "      <th>4</th>\n",
       "      <td>62</td>\n",
       "      <td>60.491033</td>\n",
       "    </tr>\n",
       "  </tbody>\n",
       "</table>\n",
       "</div>"
      ],
      "text/plain": [
       "   Actual  Predicted\n",
       "0      20  16.884145\n",
       "1      27  33.732261\n",
       "2      69  75.357018\n",
       "3      30  26.794801\n",
       "4      62  60.491033"
      ]
     },
     "execution_count": 10,
     "metadata": {},
     "output_type": "execute_result"
    }
   ],
   "source": [
    "df = pd.DataFrame({'Actual':y_test,'Predicted':y_pred})\n",
    "df"
   ]
  },
  {
   "cell_type": "code",
   "execution_count": 11,
   "id": "272f268f",
   "metadata": {
    "execution": {
     "iopub.execute_input": "2022-04-20T15:55:17.093194Z",
     "iopub.status.busy": "2022-04-20T15:55:17.092936Z",
     "iopub.status.idle": "2022-04-20T15:55:17.098260Z",
     "shell.execute_reply": "2022-04-20T15:55:17.097802Z"
    },
    "papermill": {
     "duration": 0.029805,
     "end_time": "2022-04-20T15:55:17.100507",
     "exception": false,
     "start_time": "2022-04-20T15:55:17.070702",
     "status": "completed"
    },
    "tags": []
   },
   "outputs": [
    {
     "name": "stdout",
     "output_type": "stream",
     "text": [
      "No of Hours = 9.25\n",
      "Predicted Score = 93.69173248737539\n"
     ]
    }
   ],
   "source": [
    "hours = np.array([9.25]).reshape(1, -1)\n",
    "\n",
    "pred = regr.predict(hours)\n",
    "print('No of Hours = {}'.format(hours[0,0]))\n",
    "print('Predicted Score = {}'.format(pred[0]))"
   ]
  },
  {
   "cell_type": "markdown",
   "id": "39c4b277",
   "metadata": {
    "papermill": {
     "duration": 0.021334,
     "end_time": "2022-04-20T15:55:17.143422",
     "exception": false,
     "start_time": "2022-04-20T15:55:17.122088",
     "status": "completed"
    },
    "tags": []
   },
   "source": [
    "## Evaluating the Model"
   ]
  },
  {
   "cell_type": "code",
   "execution_count": 12,
   "id": "adfc90f6",
   "metadata": {
    "execution": {
     "iopub.execute_input": "2022-04-20T15:55:17.188161Z",
     "iopub.status.busy": "2022-04-20T15:55:17.187730Z",
     "iopub.status.idle": "2022-04-20T15:55:17.192835Z",
     "shell.execute_reply": "2022-04-20T15:55:17.191762Z"
    },
    "papermill": {
     "duration": 0.029558,
     "end_time": "2022-04-20T15:55:17.194548",
     "exception": false,
     "start_time": "2022-04-20T15:55:17.164990",
     "status": "completed"
    },
    "tags": []
   },
   "outputs": [
    {
     "name": "stdout",
     "output_type": "stream",
     "text": [
      "Mean Absolute Error: 4.183859899002982\n"
     ]
    }
   ],
   "source": [
    "from sklearn import metrics \n",
    "print('Mean Absolute Error:',\n",
    "     metrics.mean_absolute_error(y_test, y_pred))"
   ]
  },
  {
   "cell_type": "code",
   "execution_count": null,
   "id": "cc9e43d3",
   "metadata": {
    "papermill": {
     "duration": 0.023018,
     "end_time": "2022-04-20T15:55:17.240398",
     "exception": false,
     "start_time": "2022-04-20T15:55:17.217380",
     "status": "completed"
    },
    "tags": []
   },
   "outputs": [],
   "source": []
  }
 ],
 "metadata": {
  "kernelspec": {
   "display_name": "Python 3",
   "language": "python",
   "name": "python3"
  },
  "language_info": {
   "codemirror_mode": {
    "name": "ipython",
    "version": 3
   },
   "file_extension": ".py",
   "mimetype": "text/x-python",
   "name": "python",
   "nbconvert_exporter": "python",
   "pygments_lexer": "ipython3",
   "version": "3.7.12"
  },
  "papermill": {
   "default_parameters": {},
   "duration": 12.490335,
   "end_time": "2022-04-20T15:55:18.085317",
   "environment_variables": {},
   "exception": null,
   "input_path": "__notebook__.ipynb",
   "output_path": "__notebook__.ipynb",
   "parameters": {},
   "start_time": "2022-04-20T15:55:05.594982",
   "version": "2.3.4"
  }
 },
 "nbformat": 4,
 "nbformat_minor": 5
}
